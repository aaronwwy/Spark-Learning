{
 "cells": [
  {
   "cell_type": "markdown",
   "metadata": {},
   "source": [
    "# Chapter 6 - Advanced Spark Programming"
   ]
  },
  {
   "cell_type": "markdown",
   "metadata": {},
   "source": [
    "## Basics - Shared Variables\n",
    "\n",
    "* Functions that are passed to spark (i.e. <code>map</code> or a condition for <code>filter</code>)\n",
    "    - Can use variables defined outside them in the driver program\n",
    "    - Each task running on the cluster gets a new copy of each variable \n",
    "    - Updates from copy of each variable is not propagated back to the driver\n",
    "    - ** Shared variables relax this restriction for two common type sof communication patterns: aggregation of results and broadcasts**\n",
    "\n",
    "* **Accumulators**: aggregates values from worker nodes back to the driver program\n",
    "    - One of the most common uses of accumulators: count events that occur during job execution for debugging purposes\n",
    "    - It is possible to aggregate values from an entire RDD back to the driver program using actions like <code>reduce</code>, but sometimes we need a simple way to aggregate values that (in the process of transforming the RDD) generated at different scale or granularity than that of the RDD itself \n",
    "    - Created in the driver by calling the <code>SparkContext.accumulator(initialValue)</code> method\n",
    "        - Produces an accumulator holding an initial value\n",
    "    - Worker code in Spark closures can add to the accumulator with its += method (or add in Java)\n",
    "    - The driver program can call <code>value</code> on the accumulator to acces its value (or call <code>value()</code> and <code>setValue()</code> in Java)\n",
    "    - Tasks on worker nodes cannot access the accumulator's <code>value</code> from the point of view of these tasks, accumulators are <i>write-only</i> variables\n",
    "    - For accumulators used in actions, Spark only applies each task's update to each accumulator once. Thus if we want a reliable absolute value counter, reglardless of failures or multiple evaluations, we must put it inside an action like <code>foreach</code>\n",
    "    - For accumulators used in RDD transformations instead of actions this guarantee does not exist; an accumulator update within a transformation can occur more than once\n",
    "        - Example: Unintended multiple update occurs when a cached but infrequent used RDD is first evicted from the LRU cache and is then subsequently needed. This forces the RDD to be recalculated from its lineage, with the uninteded side-effect that calls to update an accumulator within the transformations in the lineage are sent again to the driver \n",
    "        - Only use accumulators inside transformations for debugging purposes\n",
    "        \n",
    "**finish custom accum notes**\n",
    "* Spark's built-in accumulator type is integers\n",
    "\n",
    "* Broadcast variables: efficiently distribute large variables"
   ]
  },
  {
   "cell_type": "markdown",
   "metadata": {},
   "source": [
    "### Accumulator Example - Empty Line Count \n",
    "Say we are loading a list of all the call signs we want to retrieve logs for from a file, but we are also interested in how many lines of the input file were blank (perhaps we do not expect to see many such lines in valid input)\n",
    "* Creates an <code>Accumulator[Int]</code> called <code>blankLines</code>\n",
    "* Add 1 to it whenever we see a blank line in the input\n",
    "* After evaluation of the transformation, we print the value of the counter\n",
    "* Note that we only see the right count after we run an action (<code>saveAsTextFile</code> or <code>collect</code>) because the transformation is lazy \n",
    "\n"
   ]
  },
  {
   "cell_type": "code",
   "execution_count": 31,
   "metadata": {
    "collapsed": true
   },
   "outputs": [],
   "source": [
    "from __future__ import print_function"
   ]
  },
  {
   "cell_type": "code",
   "execution_count": 120,
   "metadata": {
    "collapsed": false
   },
   "outputs": [
    {
     "name": "stdout",
     "output_type": "stream",
     "text": [
      "callSigns: [u'W8PAL', u'stuff', u'', u'W6BB', u'VE3UOW', u'VE2CUA', u'VE2UN', u'OH2TI', u'GB1MIR', u'K2AMH', u'UA1LO', u'N7ICE', u'W8PAL']\n",
      "number of blank lines:  1\n"
     ]
    }
   ],
   "source": [
    "inputFile='callsigns'\n",
    "f = sc.textFile(inputFile)\n",
    "# print('text file contains: ',f.collect())\n",
    "# Create Accumulator[Int] initialized to 0\n",
    "blankLines = sc.accumulator(0)\n",
    "\n",
    "def extractCallSigns(line):\n",
    "    global blankLines # make the global variable accessible\n",
    "    if (line==\"\"):\n",
    "        blankLines += 1\n",
    "    return line.split(\" \")\n",
    "\n",
    "callSigns = f.flatMap(extractCallSigns)\n",
    "print('callSigns:',callSigns.collect())\n",
    "# f.flatMap(extractCallSigns).collect()\n",
    "print('number of blank lines: ',blankLines.value)"
   ]
  },
  {
   "cell_type": "markdown",
   "metadata": {},
   "source": [
    "### Accumulator Example - Error Count\n",
    "For simplicity we are going to count the number of call signs with \"A\" in it "
   ]
  },
  {
   "cell_type": "code",
   "execution_count": 118,
   "metadata": {
    "collapsed": false,
    "scrolled": false
   },
   "outputs": [
    {
     "name": "stdout",
     "output_type": "stream",
     "text": [
      "5\n",
      "validSigns:  [u'W8PAL', u'VE2CUA', u'K2AMH', u'UA1LO', u'W8PAL']\n",
      "contactCount:  [(u'VE2CUA', 1), (u'K2AMH', 1), (u'W8PAL', 2), (u'UA1LO', 1)]\n"
     ]
    }
   ],
   "source": [
    "# create accumulators for validating error count example\n",
    "validSignCount = sc.accumulator(0)\n",
    "invalidSignCount = sc.accumulator(0)\n",
    "\n",
    "def validateSign(sign):\n",
    "    global validSignCount, invalidSignCount\n",
    "#     if re.match(r\"\\A\\d?[a-zA-Z]{1,2}\\d{1,4}[a-zA-Z]{1,3}\\Z\", sign):\n",
    "    if 'A' in sign:\n",
    "        validSignCount += 1\n",
    "        return True \n",
    "    else:\n",
    "        invalidSignCount += 1\n",
    "        return False\n",
    "    \n",
    "# count the number of times we contacted each call sign\n",
    "validSigns = callSigns.filter(validateSign)\n",
    "contactCount = validSigns.map(lambda sign: (sign,1)).reduceByKey(lambda x,y:x+y)\n",
    "validSigns.collect()\n",
    "print(validSignCount.value)\n",
    "print('validSigns: ',validSigns.collect())\n",
    "print('contactCount: ',contactCount.collect())"
   ]
  },
  {
   "cell_type": "code",
   "execution_count": null,
   "metadata": {
    "collapsed": true
   },
   "outputs": [],
   "source": []
  }
 ],
 "metadata": {
  "kernelspec": {
   "display_name": "Python 2",
   "language": "python",
   "name": "python2"
  },
  "language_info": {
   "codemirror_mode": {
    "name": "ipython",
    "version": 2
   },
   "file_extension": ".py",
   "mimetype": "text/x-python",
   "name": "python",
   "nbconvert_exporter": "python",
   "pygments_lexer": "ipython2",
   "version": "2.7.10"
  }
 },
 "nbformat": 4,
 "nbformat_minor": 0
}
