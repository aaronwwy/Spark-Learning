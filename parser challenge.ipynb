{
 "cells": [
  {
   "cell_type": "markdown",
   "metadata": {},
   "source": [
    "1. create a spark dataframe without using a csv reader \n",
    "2. Make sure each column is the correct type\n",
    "3. handle NA values"
   ]
  },
  {
   "cell_type": "code",
   "execution_count": 1,
   "metadata": {
    "collapsed": false,
    "scrolled": false
   },
   "outputs": [],
   "source": [
    "from pyspark.sql import SQLContext, Row,DataFrame\n",
    "from pyspark.sql.types import *\n",
    "filename = 'airquality.csv'\n",
    "# filename = 's3://adcoregon/Joanne/data/airquality.csv' -- this is how you \n",
    "rdd = sc.textFile(filename)\n",
    "\n",
    "# rdd.map(lambda x: if x=='NA')\n",
    "# rdd.collect()[0].split(',')\n",
    "\n",
    "rdd2=rdd.map(lambda x: x.split(','))\n",
    "header = rdd2.first()\n",
    "rdd_noHeader=rdd2.filter(lambda x: x != header)\n",
    "\n",
    "\n",
    "#infer type based on what is there\n",
    "def infer_type(x):\n",
    "    if '\"' in x:\n",
    "        x = x.replace('\"','')\n",
    "        \n",
    "    if '.' in x:\n",
    "        return float(x)\n",
    "    elif x =='NA':\n",
    "        return None\n",
    "    else:\n",
    "        return int(x) \n",
    "        \n",
    "cleaned = rdd_noHeader.map(lambda x: [infer_type(a) for a in x])\n",
    "header_stripped = [x.replace('\"','') for x in header]"
   ]
  },
  {
   "cell_type": "code",
   "execution_count": 2,
   "metadata": {
    "collapsed": false,
    "scrolled": true
   },
   "outputs": [
    {
     "name": "stdout",
     "output_type": "stream",
     "text": [
      "+---+-----+-------+----+----+-----+---+\n",
      "|   |Ozone|Solar.R|Wind|Temp|Month|Day|\n",
      "+---+-----+-------+----+----+-----+---+\n",
      "|  1|   41|    190| 7.4|  67|    5|  1|\n",
      "|  2|   36|    118|null|  72|    5|  2|\n",
      "|  3|   12|    149|12.6|  74|    5|  3|\n",
      "|  4|   18|    313|11.5|  62|    5|  4|\n",
      "|  5| null|   null|14.3|  56|    5|  5|\n",
      "|  6|   28|   null|14.9|  66|    5|  6|\n",
      "|  7|   23|    299| 8.6|  65|    5|  7|\n",
      "|  8|   19|     99|13.8|  59|    5|  8|\n",
      "|  9|    8|     19|20.1|  61|    5|  9|\n",
      "| 10| null|    194| 8.6|  69|    5| 10|\n",
      "| 11|    7|   null| 6.9|  74|    5| 11|\n",
      "| 12|   16|    256| 9.7|  69|    5| 12|\n",
      "| 13|   11|    290| 9.2|  66|    5| 13|\n",
      "| 14|   14|    274|10.9|  68|    5| 14|\n",
      "| 15|   18|     65|13.2|  58|    5| 15|\n",
      "| 16|   14|    334|11.5|  64|    5| 16|\n",
      "| 17|   34|    307|null|  66|    5| 17|\n",
      "| 18|    6|     78|18.4|  57|    5| 18|\n",
      "| 19|   30|    322|11.5|  68|    5| 19|\n",
      "| 20|   11|     44| 9.7|  62|    5| 20|\n",
      "+---+-----+-------+----+----+-----+---+\n",
      "only showing top 20 rows\n",
      "\n",
      "DataFrame[: bigint, Ozone: bigint, Solar.R: bigint, Wind: double, Temp: bigint, Month: bigint, Day: bigint]\n"
     ]
    }
   ],
   "source": [
    "# converting to DatFrame w/o Schema\n",
    "df = cleaned.toDF(header_stripped)\n",
    "df.show()\n",
    "print df"
   ]
  },
  {
   "cell_type": "code",
   "execution_count": 46,
   "metadata": {
    "collapsed": false
   },
   "outputs": [
    {
     "name": "stdout",
     "output_type": "stream",
     "text": [
      "+-----+-----+-------+----+----+-----+---+\n",
      "|index|Ozone|Solar.R|Wind|Temp|Month|Day|\n",
      "+-----+-----+-------+----+----+-----+---+\n",
      "|    1|   41|    190| 7.4|  67|    5|  1|\n",
      "|    2|   36|    118|null|  72|    5|  2|\n",
      "|    3|   12|    149|12.6|  74|    5|  3|\n",
      "|    4|   18|    313|11.5|  62|    5|  4|\n",
      "|    5| null|   null|14.3|  56|    5|  5|\n",
      "|    6|   28|   null|14.9|  66|    5|  6|\n",
      "|    7|   23|    299| 8.6|  65|    5|  7|\n",
      "|    8|   19|     99|13.8|  59|    5|  8|\n",
      "|    9|    8|     19|20.1|  61|    5|  9|\n",
      "|   10| null|    194| 8.6|  69|    5| 10|\n",
      "|   11|    7|   null| 6.9|  74|    5| 11|\n",
      "|   12|   16|    256| 9.7|  69|    5| 12|\n",
      "|   13|   11|    290| 9.2|  66|    5| 13|\n",
      "|   14|   14|    274|10.9|  68|    5| 14|\n",
      "|   15|   18|     65|13.2|  58|    5| 15|\n",
      "|   16|   14|    334|11.5|  64|    5| 16|\n",
      "|   17|   34|    307|null|  66|    5| 17|\n",
      "|   18|    6|     78|18.4|  57|    5| 18|\n",
      "|   19|   30|    322|11.5|  68|    5| 19|\n",
      "|   20|   11|     44| 9.7|  62|    5| 20|\n",
      "+-----+-----+-------+----+----+-----+---+\n",
      "only showing top 20 rows\n",
      "\n",
      "root\n",
      " |-- index: integer (nullable = true)\n",
      " |-- Ozone: integer (nullable = true)\n",
      " |-- Solar.R: integer (nullable = true)\n",
      " |-- Wind: double (nullable = true)\n",
      " |-- Temp: integer (nullable = true)\n",
      " |-- Month: integer (nullable = true)\n",
      " |-- Day: integer (nullable = true)\n",
      "\n",
      "None\n"
     ]
    }
   ],
   "source": [
    "# alternatively, we could impose a schema\n",
    "schema_ = StructType([StructField('index',IntegerType(),True),\\\n",
    "           StructField(header_stripped[1],IntegerType(),True),\\\n",
    "           StructField(header_stripped[2],IntegerType(),True),\\\n",
    "           StructField(header_stripped[3],DoubleType(),True),\\\n",
    "           StructField(header_stripped[4],IntegerType(),True),\\\n",
    "           StructField(header_stripped[5],IntegerType(),True),\\\n",
    "           StructField(header_stripped[6],IntegerType(),True)])\n",
    "\n",
    "# shorthand:\n",
    "df = cleaned.toDF(schema=schema_)\n",
    "\n",
    "# full:\n",
    "df = sqlContext.createDataFrame(cleaned,schema_)\n",
    "df.show()\n",
    "print df.printSchema()\n",
    "# df.collect()"
   ]
  },
  {
   "cell_type": "code",
   "execution_count": 6,
   "metadata": {
    "collapsed": false,
    "scrolled": true
   },
   "outputs": [
    {
     "name": "stdout",
     "output_type": "stream",
     "text": [
      "+---+-----+-------+----+----+-----+---+\n",
      "|   |Ozone|Solar.R|Wind|Temp|Month|Day|\n",
      "+---+-----+-------+----+----+-----+---+\n",
      "| 32| null|    286| 8.6|  78|    6|  1|\n",
      "| 33| null|    287| 9.7|  74|    6|  2|\n",
      "| 34| null|    242|16.1|  67|    6|  3|\n",
      "| 35| null|    186| 9.2|  84|    6|  4|\n",
      "| 36| null|    220| 8.6|  85|    6|  5|\n",
      "| 37| null|    264|14.3|  79|    6|  6|\n",
      "| 38|   29|    127| 9.7|  82|    6|  7|\n",
      "| 39| null|    273| 6.9|  87|    6|  8|\n",
      "| 40|   71|    291|13.8|  90|    6|  9|\n",
      "| 41|   39|    323|11.5|  87|    6| 10|\n",
      "| 42| null|    259|10.9|  93|    6| 11|\n",
      "| 43| null|    250| 9.2|  92|    6| 12|\n",
      "| 44|   23|    148|null|  82|    6| 13|\n",
      "| 45| null|    332|13.8|  80|    6| 14|\n",
      "| 46| null|    322|11.5|  79|    6| 15|\n",
      "| 47|   21|    191|14.9|  77|    6| 16|\n",
      "| 48|   37|    284|20.7|  72|    6| 17|\n",
      "| 49|   20|     37| 9.2|  65|    6| 18|\n",
      "| 50|   12|    120|11.5|  73|    6| 19|\n",
      "| 51|   13|    137|10.3|  76|    6| 20|\n",
      "+---+-----+-------+----+----+-----+---+\n",
      "only showing top 20 rows\n",
      "\n"
     ]
    }
   ],
   "source": [
    "# register the table \n",
    "df.registerTempTable('mytable')\n",
    "\n",
    "# query \n",
    "sqlContext.sql('select * from mytable where Month = 6').show()"
   ]
  }
 ],
 "metadata": {
  "kernelspec": {
   "display_name": "Python [Root]",
   "language": "python",
   "name": "Python [Root]"
  },
  "language_info": {
   "codemirror_mode": {
    "name": "ipython",
    "version": 2
   },
   "file_extension": ".py",
   "mimetype": "text/x-python",
   "name": "python",
   "nbconvert_exporter": "python",
   "pygments_lexer": "ipython2",
   "version": "2.7.12"
  }
 },
 "nbformat": 4,
 "nbformat_minor": 0
}
