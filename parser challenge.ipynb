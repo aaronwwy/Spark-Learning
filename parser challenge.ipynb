{
 "cells": [
  {
   "cell_type": "markdown",
   "metadata": {},
   "source": [
    "1. create a spark dataframe without using a csv reader \n",
    "2. Make sure each column is the correct type\n",
    "3. handle NA values"
   ]
  },
  {
   "cell_type": "code",
   "execution_count": 123,
   "metadata": {
    "collapsed": false,
    "scrolled": false
   },
   "outputs": [
    {
     "name": "stdout",
     "output_type": "stream",
     "text": [
      "+---+-----+-------+----+----+-----+---+\n",
      "|   |Ozone|Solar.R|Wind|Temp|Month|Day|\n",
      "+---+-----+-------+----+----+-----+---+\n",
      "|  1|   41|    190| 7.4|  67|    5|  1|\n",
      "|  2|   36|    118|null|  72|    5|  2|\n",
      "|  3|   12|    149|12.6|  74|    5|  3|\n",
      "|  4|   18|    313|11.5|  62|    5|  4|\n",
      "|  5| null|   null|14.3|  56|    5|  5|\n",
      "|  6|   28|   null|14.9|  66|    5|  6|\n",
      "|  7|   23|    299| 8.6|  65|    5|  7|\n",
      "|  8|   19|     99|13.8|  59|    5|  8|\n",
      "|  9|    8|     19|20.1|  61|    5|  9|\n",
      "| 10| null|    194| 8.6|  69|    5| 10|\n",
      "| 11|    7|   null| 6.9|  74|    5| 11|\n",
      "| 12|   16|    256| 9.7|  69|    5| 12|\n",
      "| 13|   11|    290| 9.2|  66|    5| 13|\n",
      "| 14|   14|    274|10.9|  68|    5| 14|\n",
      "| 15|   18|     65|13.2|  58|    5| 15|\n",
      "| 16|   14|    334|11.5|  64|    5| 16|\n",
      "| 17|   34|    307|null|  66|    5| 17|\n",
      "| 18|    6|     78|18.4|  57|    5| 18|\n",
      "| 19|   30|    322|11.5|  68|    5| 19|\n",
      "| 20|   11|     44| 9.7|  62|    5| 20|\n",
      "+---+-----+-------+----+----+-----+---+\n",
      "only showing top 20 rows\n",
      "\n"
     ]
    }
   ],
   "source": [
    "from pyspark.sql import SQLContext, Row,DataFrame\n",
    "filename = 'airquality.csv'\n",
    "rdd = sc.textFile(filename)\n",
    "# rdd.map(lambda x: if x=='NA')\n",
    "# rdd.collect()[0].split(',')\n",
    "\n",
    "rdd2=rdd.map(lambda x: x.split(','))\n",
    "header = rdd2.first()\n",
    "rdd3=rdd2.filter(lambda x: x != header)\n",
    "\n",
    "def infer_type(x):\n",
    "    if '\"' in x:\n",
    "        x = x.replace('\"','')\n",
    "        \n",
    "    if '.' in x:\n",
    "        return float(x)\n",
    "    elif 'N' in x:\n",
    "        return None\n",
    "    else:\n",
    "        return int(x) \n",
    "        \n",
    "cleaned = rdd3.map(lambda x: [infer_type(a) for a in x])\n",
    "header2 = [x.replace('\"','') for x in header]\n",
    "df = cleaned.toDF(header2)\n",
    "df.show()"
   ]
  },
  {
   "cell_type": "markdown",
   "metadata": {},
   "source": [
    "## Peter's Code"
   ]
  },
  {
   "cell_type": "code",
   "execution_count": null,
   "metadata": {
    "collapsed": true
   },
   "outputs": [],
   "source": [
    "from pyspark import SparkContext\n",
    "sc =SparkContext()\n",
    "from pyspark.sql import SQLContext, Row\n",
    "sqlCon = SQLContext(sc)\n",
    "\n",
    "# Read in text file into rdd called rawdata\n",
    "rawdata = sc.textFile(\"/Users/peterchen/Downloads/sampleData2.csv\")\n",
    "# Define header\n",
    "header = rawdata.first() #extract header\n",
    "# Remove header\n",
    "rawdata = rawdata.filter(lambda x:x !=header)\n",
    "# split by commas\n",
    "mydata = rawdata.map(lambda line: line.split(\",\"))\n",
    "\n",
    "# Add schema with data types\n",
    "myrows = mydata.map(lambda p:Row(age=int(p[0]),purchasePrice=float(p[1]),gender=p[2],productSelected=p[3]))\n",
    "\n",
    "mytable = sqlCon.createDataFrame(myrows)\n",
    "mytable.registerTempTable(\"mytable\")\n",
    "\n",
    "mytable.printSchema()\n",
    "\n",
    "sqlCon.sql(\"select * from mytable where age > 40 \").show()\n",
    "sqlCon.sql(\"select * from mytable where purchasePrice > .5 \").show()\n",
    "sqlCon.sql(\"select * from mytable where gender = 'F' \").show()\n",
    "sqlCon.sql(\"select * from mytable where productSelected = 'water' \").show()\n",
    "sqlCon.sql(\"select sum(purchasePrice) as TotalPurchasesWater from mytable where productSelected = 'water' \").show()\n",
    "sqlCon.sql(\"select sum(purchasePrice) as TotalPurchasesWomen from mytable where gender = 'F' \").show()\n",
    "sqlCon.sql(\"select gender,sum(purchasePrice) as TotalPurchasesByGender from mytable group by gender \").show()"
   ]
  }
 ],
 "metadata": {
  "kernelspec": {
   "display_name": "Python 2",
   "language": "python",
   "name": "python2"
  },
  "language_info": {
   "codemirror_mode": {
    "name": "ipython",
    "version": 2
   },
   "file_extension": ".py",
   "mimetype": "text/x-python",
   "name": "python",
   "nbconvert_exporter": "python",
   "pygments_lexer": "ipython2",
   "version": "2.7.11"
  }
 },
 "nbformat": 4,
 "nbformat_minor": 0
}
