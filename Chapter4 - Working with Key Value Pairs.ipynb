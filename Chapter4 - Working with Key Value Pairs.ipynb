{
 "cells": [
  {
   "cell_type": "code",
   "execution_count": 2,
   "metadata": {
    "collapsed": false
   },
   "outputs": [
    {
     "data": {
      "text/plain": [
       "[(u'his', u'his name is pat'),\n",
       " (u'his', u'his name is peter'),\n",
       " (u'his', u'his name is olaf'),\n",
       " (u'her', u'her name is Joanne'),\n",
       " (u'her', u'her name is Therese'),\n",
       " (u'they', u'they work at algebraix in Encintas '),\n",
       " (u'they', u'they like to eat yogurt ')]"
      ]
     },
     "execution_count": 2,
     "metadata": {},
     "output_type": "execute_result"
    }
   ],
   "source": [
    "lines = sc.textFile('name_example.txt')\n",
    "lines.map(lambda x: (x.split(' ')[0],x)).collect()"
   ]
  },
  {
   "cell_type": "code",
   "execution_count": 3,
   "metadata": {
    "collapsed": false
   },
   "outputs": [
    {
     "data": {
      "text/plain": [
       "[u'her name is Joanne', u'her name is Therese']"
      ]
     },
     "execution_count": 3,
     "metadata": {},
     "output_type": "execute_result"
    }
   ],
   "source": [
    "rddpair = lines.map(lambda x: (x.split(' ')[0],x))\n",
    "rddpair.reduceByKey(lambda x,y: x+';'+y).collect()\n",
    "rddpair.lookup('her')\n"
   ]
  },
  {
   "cell_type": "code",
   "execution_count": 4,
   "metadata": {
    "collapsed": false
   },
   "outputs": [
    {
     "data": {
      "text/plain": [
       "{u'bus': (276, 2), u'car': (103, 3), u'taxi': (48, 2), u'uber': (27, 2)}"
      ]
     },
     "execution_count": 4,
     "metadata": {},
     "output_type": "execute_result"
    }
   ],
   "source": [
    "lines = sc.textFile('rddpair_vehicles.txt')\n",
    "lines = lines.map(lambda x: (x.split('\\t')[0],int(x.split('\\t')[1])))\n",
    "lines.collect()\n",
    "sumCount = lines.combineByKey((lambda x: (x,1)), # (value,1)\n",
    "                              (lambda x,y: (x[0] + y, x[1] + 1)), \n",
    "                              #(value in tuple + another value the same key, summing the count )\n",
    "                              (lambda x,y: (x[0] + y[0], x[1] +y[1]))) \n",
    "                            # summing the count and values across all partitions\n",
    "\n",
    "sumCount.collect()\n",
    "\n",
    "sumCount.collectAsMap()"
   ]
  },
  {
   "cell_type": "code",
   "execution_count": 5,
   "metadata": {
    "collapsed": false
   },
   "outputs": [
    {
     "data": {
      "text/plain": [
       "{u'bus': 250, u'car': (((1, 2), 3), 4), u'taxi': (1, 47), u'uber': (10, 17)}"
      ]
     },
     "execution_count": 5,
     "metadata": {},
     "output_type": "execute_result"
    }
   ],
   "source": [
    "lines2 = sc.textFile('rddpair_vehicles2.txt')\n",
    "lines2 = lines2.map(lambda x: (x.split('\\t')[0],int(x.split('\\t')[1])))\n",
    "lines2.reduceByKey(lambda x,y:(x,y)).collectAsMap()"
   ]
  },
  {
   "cell_type": "markdown",
   "metadata": {},
   "source": [
    "# Word Count Example\n",
    "\n",
    "The word count script below is quite simple. It takes the following steps:\n",
    "\n",
    "1. Split each line from the file into words\n",
    "2. Map each word to a tuple containing the word and an initial count of 1\n",
    "3. Sum up the count for each word"
   ]
  },
  {
   "cell_type": "code",
   "execution_count": null,
   "metadata": {
    "collapsed": true
   },
   "outputs": [],
   "source": [
    "import os\n",
    "\n",
    "spark_home = os.environ.get('SPARK_HOME', None)\n",
    "text_file = sc.textFile(spark_home + \"/README.md\")\n",
    "\n",
    "word_counts = text_file \\\n",
    "    .flatMap(lambda line: line.split()) \\\n",
    "    .map(lambda word: (word, 1)) \\\n",
    "    .reduceByKey(lambda a, b: a + b)\n",
    "    \n",
    "word_counts.collect()"
   ]
  }
 ],
 "metadata": {
  "kernelspec": {
   "display_name": "Python 2",
   "language": "python",
   "name": "python2"
  },
  "language_info": {
   "codemirror_mode": {
    "name": "ipython",
    "version": 2
   },
   "file_extension": ".py",
   "mimetype": "text/x-python",
   "name": "python",
   "nbconvert_exporter": "python",
   "pygments_lexer": "ipython2",
   "version": "2.7.10"
  }
 },
 "nbformat": 4,
 "nbformat_minor": 0
}
