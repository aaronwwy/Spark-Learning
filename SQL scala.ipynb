{
 "cells": [
  {
   "cell_type": "code",
   "execution_count": 3,
   "metadata": {
    "collapsed": false
   },
   "outputs": [
    {
     "name": "stdout",
     "output_type": "stream",
     "text": [
      "+-------+------+\n",
      "|vehicle|number|\n",
      "+-------+------+\n",
      "|    car|     1|\n",
      "|    car|     2|\n",
      "|    car|   100|\n",
      "|   taxi|     1|\n",
      "|   taxi|    47|\n",
      "|    bus|   250|\n",
      "|    bus|    26|\n",
      "|   uber|    10|\n",
      "|   uber|    17|\n",
      "+-------+------+\n",
      "\n"
     ]
    }
   ],
   "source": [
    "import org.apache.spark.sql.{SQLContext, Row}\n",
    "import org.apache.spark.sql.types._ // import all types to set schema types\n",
    "\n",
    "val rdd = sc.textFile(\"rddpair_vehicles.txt\").map(x => x.split(\"\\t\"))\n",
    "\n",
    "// val rdd_noHeader = rdd.filter(x => x.contains(header))\n",
    "val schema = StructType(Array(\n",
    "    StructField(\"vehicle\", StringType,true),\n",
    "    StructField(\"number\", IntegerType,true)\n",
    "))\n",
    "\n",
    "\n",
    "\n",
    "\n",
    "// val df = sqlContext.createDataFrame(rdd,schema)\n",
    "val rowRDD = rdd.map(row => Row(row(0),row(1).toInt))\n",
    "val df = sqlContext.createDataFrame(rowRDD,schema)\n",
    "df.show()\n",
    "\n",
    "// df.map(x => x.get(\"vehicle\")).collect()\n",
    "df.registerTempTable(\"vehicles\")\n",
    "df.registerTempTable(\"vehicles2\")\n",
    "sqlContext.cacheTable(\"vehicles\")\n",
    "\n"
   ]
  },
  {
   "cell_type": "code",
   "execution_count": 58,
   "metadata": {
    "collapsed": false
   },
   "outputs": [],
   "source": [
    "case class Vehicles(name: String, number: Int)\n",
    "val rdd = sc.textFile(\"rddpair_vehicles.txt\").map(x => x.split(\"\\t\")).map(v=> Vehicles(v(0),v(1).toInt))\n",
    "val df2 = sqlContext.createDataFrame(rdd)\n",
    "df2.registerTempTable(\"vehicles3\")"
   ]
  }
 ],
 "metadata": {
  "kernelspec": {
   "display_name": "Apache Toree - Scala",
   "language": "scala",
   "name": "apache_toree_scala"
  },
  "language_info": {
   "name": "scala",
   "version": "2.10.4"
  }
 },
 "nbformat": 4,
 "nbformat_minor": 0
}
